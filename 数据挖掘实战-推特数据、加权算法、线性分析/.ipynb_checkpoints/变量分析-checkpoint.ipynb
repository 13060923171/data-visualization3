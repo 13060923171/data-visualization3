{
 "cells": [
  {
   "cell_type": "code",
   "execution_count": 1,
   "id": "fb5ea734",
   "metadata": {},
   "outputs": [
    {
     "name": "stdout",
     "output_type": "stream",
     "text": [
      "                  用户名  平均值项:关注数量  平均值项:粉丝数量  求和项:回复数量  求和项:转发数量  求和项:引用数量  \\\n",
      "0                   辰      131.0       71.0         1         1         0   \n",
      "1  #1 Mimikyu Fan‼️‼️       93.0       49.0         1         1         0   \n",
      "2     ⟭⟬ OT⁷ jenii ⟬⟭     2429.0     1012.0         0         0         0   \n",
      "3       【Biantai】熊猫🐼安      473.0      737.0         1         0         0   \n",
      "4             °Rosam🍪      270.0       12.0         0         0         0   \n",
      "\n",
      "   求和项:浏览量  求和项:点赞数  \n",
      "0    36693       14  \n",
      "1      205        2  \n",
      "2       22        0  \n",
      "3     1090        2  \n",
      "4      193        0  \n"
     ]
    }
   ],
   "source": [
    "import pandas as pd\n",
    "import numpy as np\n",
    "import matplotlib.pyplot as plt\n",
    "import seaborn as sns\n",
    "\n",
    "\n",
    "data = pd.read_excel('变量分析.xlsx')\n",
    "\n",
    "# 2. 预览前5行数据查看\n",
    "print(data.head())"
   ]
  },
  {
   "cell_type": "code",
   "execution_count": 2,
   "id": "a5fea47d",
   "metadata": {},
   "outputs": [
    {
     "name": "stdout",
     "output_type": "stream",
     "text": [
      "<class 'pandas.core.frame.DataFrame'>\n",
      "RangeIndex: 1284 entries, 0 to 1283\n",
      "Data columns (total 8 columns):\n",
      " #   Column     Non-Null Count  Dtype  \n",
      "---  ------     --------------  -----  \n",
      " 0   用户名        1284 non-null   object \n",
      " 1   平均值项:关注数量  1284 non-null   float64\n",
      " 2   平均值项:粉丝数量  1284 non-null   float64\n",
      " 3   求和项:回复数量   1284 non-null   int64  \n",
      " 4   求和项:转发数量   1284 non-null   int64  \n",
      " 5   求和项:引用数量   1284 non-null   int64  \n",
      " 6   求和项:浏览量    1284 non-null   int64  \n",
      " 7   求和项:点赞数    1284 non-null   int64  \n",
      "dtypes: float64(2), int64(5), object(1)\n",
      "memory usage: 80.4+ KB\n",
      "None\n"
     ]
    }
   ],
   "source": [
    "print(data.info())"
   ]
  },
  {
   "cell_type": "code",
   "execution_count": 3,
   "id": "487b7bde",
   "metadata": {},
   "outputs": [],
   "source": [
    "data['平均值项:关注数量'] = data['平均值项:关注数量'].astype('int')\n",
    "data['平均值项:粉丝数量'] = data['平均值项:粉丝数量'].astype('int')"
   ]
  },
  {
   "cell_type": "code",
   "execution_count": 4,
   "id": "602ffb4b",
   "metadata": {},
   "outputs": [
    {
     "name": "stdout",
     "output_type": "stream",
     "text": [
      "           平均值项:关注数量     平均值项:粉丝数量     求和项:回复数量      求和项:转发数量     求和项:引用数量  \\\n",
      "count    1284.000000  1.284000e+03  1284.000000   1284.000000  1284.000000   \n",
      "mean     1194.883178  2.504770e+04    20.948598     65.887072     4.250779   \n",
      "std      3887.224638  3.890004e+05   258.882063   1182.438574    45.519580   \n",
      "min         0.000000  0.000000e+00     0.000000      0.000000     0.000000   \n",
      "25%        39.750000  3.200000e+01     0.000000      0.000000     0.000000   \n",
      "50%       186.500000  3.825000e+02     0.000000      0.000000     0.000000   \n",
      "75%       930.250000  3.496750e+03     1.000000      3.000000     0.000000   \n",
      "max    110340.000000  1.300236e+07  6506.000000  41304.000000  1125.000000   \n",
      "\n",
      "            求和项:浏览量        求和项:点赞数  \n",
      "count  1.284000e+03    1284.000000  \n",
      "mean   3.189419e+05     417.624611  \n",
      "std    4.105498e+06    6303.421976  \n",
      "min    1.000000e+00       0.000000  \n",
      "25%    1.965000e+02       1.000000  \n",
      "50%    6.600000e+02       5.000000  \n",
      "75%    3.218000e+03      25.000000  \n",
      "max    8.935142e+07  216039.000000  \n"
     ]
    }
   ],
   "source": [
    "print(data.describe())"
   ]
  },
  {
   "cell_type": "markdown",
   "id": "3c3fe9b7",
   "metadata": {},
   "source": [
    "count：数据数量\n",
    "mean：平均值\n",
    "std：标准差\n",
    "min：最小值\n",
    "25%，50%，75%：即第一四分位数（25th percentile），第二四分位数即中位数（50th percentile），第三四分位数（75th percentile）\n",
    "max：最大值"
   ]
  },
  {
   "cell_type": "code",
   "execution_count": 5,
   "id": "01ed45ef",
   "metadata": {},
   "outputs": [
    {
     "name": "stdout",
     "output_type": "stream",
     "text": [
      "<class 'pandas.core.frame.DataFrame'>\n",
      "RangeIndex: 1284 entries, 0 to 1283\n",
      "Data columns (total 7 columns):\n",
      " #   Column     Non-Null Count  Dtype\n",
      "---  ------     --------------  -----\n",
      " 0   平均值项:关注数量  1284 non-null   int32\n",
      " 1   平均值项:粉丝数量  1284 non-null   int32\n",
      " 2   求和项:回复数量   1284 non-null   int64\n",
      " 3   求和项:转发数量   1284 non-null   int64\n",
      " 4   求和项:引用数量   1284 non-null   int64\n",
      " 5   求和项:浏览量    1284 non-null   int64\n",
      " 6   求和项:点赞数    1284 non-null   int64\n",
      "dtypes: int32(2), int64(5)\n",
      "memory usage: 60.3 KB\n",
      "None\n"
     ]
    }
   ],
   "source": [
    "data = data.drop(['用户名'],axis=1)\n",
    "print(data.info())"
   ]
  },
  {
   "cell_type": "code",
   "execution_count": 6,
   "id": "20c28051",
   "metadata": {},
   "outputs": [],
   "source": [
    "# 2. 计算数据中所有列之间的相关性\n",
    "correlations = data.corr()"
   ]
  },
  {
   "cell_type": "code",
   "execution_count": null,
   "id": "5ac7ba48",
   "metadata": {},
   "outputs": [],
   "source": [
    "import matplotlib\n",
    "# 3. 使用heatmap创建相关性矩阵的热图\n",
    "matplotlib.rcParams['font.sans-serif'] = ['SimHei']   # 指定默认字体：解决plot不能显示中文问题\n",
    "matplotlib.rcParams['axes.unicode_minus'] = False     # 解决保存图像是负号'-'显示为方块的问题\n",
    "plt.figure(figsize=(10,10))\n",
    "sns.heatmap(correlations, cbar=True, square=True, fmt='.2f', annot=True, annot_kws={'size':14}, cmap='Blues')\n",
    "plt.show()"
   ]
  },
  {
   "cell_type": "code",
   "execution_count": null,
   "id": "742f1faf",
   "metadata": {},
   "outputs": [],
   "source": [
    "best_corr = {}\n",
    "\n",
    "for col in correlations.columns:\n",
    "    # 从各列去掉自列关系\n",
    "    cur_corr = correlations[col].drop(col)\n",
    "    best_match = cur_corr.idxmax()\n",
    "    best_corr[col] = best_match\n",
    "\n",
    "best_corr = pd.Series(best_corr).reset_index()\n",
    "best_corr.columns = ['列名', '最相关列名']\n",
    "\n",
    "best_corr"
   ]
  },
  {
   "cell_type": "markdown",
   "id": "7998e179",
   "metadata": {},
   "source": [
    "数值越大，说明越趋近正相关，数据越小，说明越趋近负相关"
   ]
  },
  {
   "cell_type": "code",
   "execution_count": null,
   "id": "498d2f0e",
   "metadata": {},
   "outputs": [],
   "source": []
  }
 ],
 "metadata": {
  "kernelspec": {
   "display_name": "Python 3 (ipykernel)",
   "language": "python",
   "name": "python3"
  },
  "language_info": {
   "codemirror_mode": {
    "name": "ipython",
    "version": 3
   },
   "file_extension": ".py",
   "mimetype": "text/x-python",
   "name": "python",
   "nbconvert_exporter": "python",
   "pygments_lexer": "ipython3",
   "version": "3.9.13"
  }
 },
 "nbformat": 4,
 "nbformat_minor": 5
}
