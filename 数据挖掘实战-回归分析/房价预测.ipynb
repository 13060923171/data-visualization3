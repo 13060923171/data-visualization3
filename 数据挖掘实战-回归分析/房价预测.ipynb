{
 "cells": [
  {
   "cell_type": "code",
   "execution_count": 8,
   "id": "0279c96c-f866-4f02-8942-7ba2cd2a8ff1",
   "metadata": {},
   "outputs": [],
   "source": [
    "import pandas as pd\n",
    "import numpy as np\n",
    "from sklearn.preprocessing import LabelEncoder\n",
    "from sklearn.feature_selection import RFE\n",
    "from sklearn.linear_model import LogisticRegression\n",
    "from sklearn.preprocessing import StandardScaler\n",
    "from sklearn.datasets import make_regression\n",
    "from sklearn.model_selection import train_test_split, GridSearchCV\n",
    "from sklearn.metrics import mean_squared_error, r2_score\n",
    "from sklearn.linear_model import LinearRegression, Ridge, Lasso, ElasticNet\n",
    "from sklearn.svm import SVR\n",
    "from sklearn.ensemble import RandomForestRegressor, GradientBoostingRegressor\n",
    "from tqdm import tqdm\n",
    "import joblib\n",
    "from sklearn.ensemble import VotingRegressor\n",
    "from xgboost import XGBRegressor\n",
    "\n",
    "# 数据处理库\n",
    "import matplotlib\n",
    "import matplotlib.pyplot as plt\n",
    "matplotlib.use('Agg')  # 使用Agg后端"
   ]
  },
  {
   "cell_type": "code",
   "execution_count": 2,
   "id": "d625276c-a3e9-401d-8d6a-4cfd955f1ada",
   "metadata": {},
   "outputs": [],
   "source": [
    "df = pd.read_csv('data.csv')\n",
    "df['price'] = df['price'] / 1000\n",
    "df = df.drop(['rental_method','housetype'],axis=1)\n",
    "\n",
    "\n",
    "def orient_process(x):\n",
    "    x1 = str(x).split(\" \")\n",
    "    return x1[0].strip(\" \")\n",
    "\n",
    "\n",
    "df['orient'] = df['orient'].apply(orient_process)"
   ]
  },
  {
   "cell_type": "code",
   "execution_count": 3,
   "id": "6ab4d601-c11c-4f40-92dd-34909c102c63",
   "metadata": {},
   "outputs": [],
   "source": [
    "def floor_process(x):\n",
    "    if x == '低楼层':\n",
    "        return 0\n",
    "    if x == '中楼层':\n",
    "        return 1\n",
    "    if x == '高楼层':\n",
    "        return 2\n",
    "\n",
    "\n",
    "df['floor'] = df['floor'].apply(floor_process)"
   ]
  },
  {
   "cell_type": "code",
   "execution_count": 4,
   "id": "3839f97c-df79-4dd1-ade1-fd9671f0b741",
   "metadata": {},
   "outputs": [],
   "source": [
    "le = LabelEncoder()\n",
    "\n",
    "df['orient'] = le.fit_transform(df['orient'])\n",
    "df['district'] = le.fit_transform(df['district'])\n",
    "df['city'] = le.fit_transform(df['city'])\n",
    "# 计算四分位数\n",
    "Q1 = df['price'].quantile(0.25)  # 第一四分位数\n",
    "Q3 = df['price'].quantile(0.75)  # 第三四分位数\n",
    "IQR = Q3 - Q1  # 四分位距\n",
    "\n",
    "# 定义上下限，一般取1.5倍IQR作为异常的标准\n",
    "lower_bound = Q1 - 1.5 * IQR\n",
    "upper_bound = Q3 + 1.5 * IQR\n",
    "\n",
    "# 去掉异常值\n",
    "df_ = df[(df['price'] >= lower_bound) & (df['price'] <= upper_bound)]\n",
    "df1 = df_.drop(['price'],axis=1)"
   ]
  },
  {
   "cell_type": "code",
   "execution_count": 5,
   "id": "cb735387-d616-40d5-aaa6-758ef44550fe",
   "metadata": {},
   "outputs": [
    {
     "name": "stderr",
     "output_type": "stream",
     "text": [
      "D:\\Users\\Administrator\\anaconda3\\Lib\\site-packages\\sklearn\\linear_model\\_logistic.py:458: ConvergenceWarning: lbfgs failed to converge (status=1):\n",
      "STOP: TOTAL NO. of ITERATIONS REACHED LIMIT.\n",
      "\n",
      "Increase the number of iterations (max_iter) or scale the data as shown in:\n",
      "    https://scikit-learn.org/stable/modules/preprocessing.html\n",
      "Please also refer to the documentation for alternative solver options:\n",
      "    https://scikit-learn.org/stable/modules/linear_model.html#logistic-regression\n",
      "  n_iter_i = _check_optimize_result(\n",
      "D:\\Users\\Administrator\\anaconda3\\Lib\\site-packages\\sklearn\\linear_model\\_logistic.py:458: ConvergenceWarning: lbfgs failed to converge (status=1):\n",
      "STOP: TOTAL NO. of ITERATIONS REACHED LIMIT.\n",
      "\n",
      "Increase the number of iterations (max_iter) or scale the data as shown in:\n",
      "    https://scikit-learn.org/stable/modules/preprocessing.html\n",
      "Please also refer to the documentation for alternative solver options:\n",
      "    https://scikit-learn.org/stable/modules/linear_model.html#logistic-regression\n",
      "  n_iter_i = _check_optimize_result(\n",
      "D:\\Users\\Administrator\\anaconda3\\Lib\\site-packages\\sklearn\\linear_model\\_logistic.py:458: ConvergenceWarning: lbfgs failed to converge (status=1):\n",
      "STOP: TOTAL NO. of ITERATIONS REACHED LIMIT.\n",
      "\n",
      "Increase the number of iterations (max_iter) or scale the data as shown in:\n",
      "    https://scikit-learn.org/stable/modules/preprocessing.html\n",
      "Please also refer to the documentation for alternative solver options:\n",
      "    https://scikit-learn.org/stable/modules/linear_model.html#logistic-regression\n",
      "  n_iter_i = _check_optimize_result(\n"
     ]
    },
    {
     "name": "stdout",
     "output_type": "stream",
     "text": [
      "Index(['district', 'area', 'orient', 'floor', 'city'], dtype='object')\n"
     ]
    },
    {
     "name": "stderr",
     "output_type": "stream",
     "text": [
      "D:\\Users\\Administrator\\anaconda3\\Lib\\site-packages\\sklearn\\linear_model\\_logistic.py:458: ConvergenceWarning: lbfgs failed to converge (status=1):\n",
      "STOP: TOTAL NO. of ITERATIONS REACHED LIMIT.\n",
      "\n",
      "Increase the number of iterations (max_iter) or scale the data as shown in:\n",
      "    https://scikit-learn.org/stable/modules/preprocessing.html\n",
      "Please also refer to the documentation for alternative solver options:\n",
      "    https://scikit-learn.org/stable/modules/linear_model.html#logistic-regression\n",
      "  n_iter_i = _check_optimize_result(\n"
     ]
    }
   ],
   "source": [
    "X = df1\n",
    "y = df['price']\n",
    "\n",
    "model = LogisticRegression()\n",
    "rfe = RFE(model, n_features_to_select=5)  # 选择5个最重要的特征\n",
    "rfe.fit(X, y)\n",
    "\n",
    "selected_features = X.columns[rfe.support_]\n",
    "print(selected_features)  # 输出被选中的特征"
   ]
  },
  {
   "cell_type": "code",
   "execution_count": 6,
   "id": "728d0383-93d4-4e0b-ae2c-7b4bea233193",
   "metadata": {},
   "outputs": [],
   "source": [
    "X2 = df1[['district', 'area', 'orient', 'floor', 'city']]\n",
    "y1 = df_['price']\n",
    "\n",
    "# 假设 X 是你的特征数据，y 是目标变量\n",
    "X_train, X_test, y_train, y_test = train_test_split(X2, y1, test_size=0.2, random_state=42)\n",
    "\n",
    "# 初始化 StandardScaler\n",
    "scaler = StandardScaler()\n",
    "\n",
    "# 对训练集进行拟合并标准化\n",
    "X_train_scaled = scaler.fit_transform(X_train)\n",
    "\n",
    "# 对测试集进行标准化（使用在训练集上拟合的 scaler）\n",
    "X_test_scaled = scaler.transform(X_test)"
   ]
  },
  {
   "cell_type": "code",
   "execution_count": 7,
   "id": "a730e950-82fc-400c-9fd2-4e37952925e9",
   "metadata": {},
   "outputs": [],
   "source": [
    "# 各个模型的初始化和参数网格\n",
    "models = {\n",
    "    'Linear Regression': LinearRegression(),\n",
    "    'Ridge': Ridge(),\n",
    "    'Lasso': Lasso(),\n",
    "    'Random Forest': RandomForestRegressor(),\n",
    "    'Gradient Boosting': GradientBoostingRegressor()\n",
    "}\n",
    "\n",
    "param_grids = {\n",
    "    'Linear Regression': {},\n",
    "    'Ridge': {'alpha': [0.1, 1.0, 10.0]},\n",
    "    'Lasso': {'alpha': [0.1, 1.0, 10.0]},\n",
    "    'Random Forest': {'n_estimators': [50, 100, 200]},\n",
    "    'Gradient Boosting': {'n_estimators': [50, 100, 200], 'learning_rate': [0.01, 0.1, 0.2]}\n",
    "}\n"
   ]
  },
  {
   "cell_type": "code",
   "execution_count": 8,
   "id": "0f95306a-8537-4231-aed0-c339ca01f931",
   "metadata": {},
   "outputs": [
    {
     "name": "stderr",
     "output_type": "stream",
     "text": [
      "100%|████████████████████████████████████████████████████████████████████████████████████| 5/5 [02:46<00:00, 33.39s/it]\n"
     ]
    }
   ],
   "source": [
    "results = []\n",
    "\n",
    "for name, model in tqdm(models.items()):\n",
    "    grid_search = GridSearchCV(model, param_grids[name], scoring='neg_mean_squared_error', cv=5)\n",
    "    grid_search.fit(X_train_scaled, y_train)\n",
    "    best_model = grid_search.best_estimator_\n",
    "\n",
    "    # 预测和评估\n",
    "    y_pred = best_model.predict(X_test_scaled)\n",
    "\n",
    "    mse = mean_squared_error(y_test, y_pred)\n",
    "    rmse = np.sqrt(mse)\n",
    "    r2 = r2_score(y_test, y_pred)\n",
    "\n",
    "    results.append({\n",
    "        'Model': name,\n",
    "        'Best Params': grid_search.best_params_,\n",
    "        'MSE': mse,\n",
    "        'RMSE': rmse,\n",
    "        'R2': r2\n",
    "    })\n",
    "\n",
    "# 将结果整理为 DataFrame\n",
    "results_df = pd.DataFrame(results)\n",
    "results_df.to_excel('model.xlsx',index=False)"
   ]
  },
  {
   "cell_type": "code",
   "execution_count": 9,
   "id": "8cb9c946-ef1c-486d-8f41-f89c777fc275",
   "metadata": {},
   "outputs": [
    {
     "name": "stdout",
     "output_type": "stream",
     "text": [
      "      Model            MSE        RMSE       R2\n",
      "0  Ensemble  424571.750273  651.591705  0.64188\n"
     ]
    }
   ],
   "source": [
    "ensemble_model = VotingRegressor(\n",
    "    estimators=[\n",
    "        ('rf', RandomForestRegressor(n_estimators=100)),\n",
    "        ('gb', GradientBoostingRegressor(learning_rate=0.1, n_estimators=200)),\n",
    "        ('xgb', XGBRegressor())\n",
    "\n",
    "    ]\n",
    ")\n",
    "\n",
    "ensemble_model.fit(X_train_scaled, y_train)\n",
    "y_pred = ensemble_model.predict(X_test_scaled)\n",
    "\n",
    "mse = mean_squared_error(y_test, y_pred)\n",
    "rmse = np.sqrt(mse)\n",
    "r2 = r2_score(y_test, y_pred)\n",
    "results = []\n",
    "results.append({\n",
    "    'Model': 'Ensemble',\n",
    "    'MSE': mse,\n",
    "    'RMSE': rmse,\n",
    "    'R2': r2\n",
    "})\n",
    "results_df = pd.DataFrame(results)\n",
    "print(results_df)\n",
    "results_df.to_excel('model.xlsx',index=False)"
   ]
  },
  {
   "cell_type": "code",
   "execution_count": 10,
   "id": "4cdfc932-a32c-426e-a96c-e49f4d040d04",
   "metadata": {},
   "outputs": [
    {
     "data": {
      "text/html": [
       "<div>\n",
       "<style scoped>\n",
       "    .dataframe tbody tr th:only-of-type {\n",
       "        vertical-align: middle;\n",
       "    }\n",
       "\n",
       "    .dataframe tbody tr th {\n",
       "        vertical-align: top;\n",
       "    }\n",
       "\n",
       "    .dataframe thead th {\n",
       "        text-align: right;\n",
       "    }\n",
       "</style>\n",
       "<table border=\"1\" class=\"dataframe\">\n",
       "  <thead>\n",
       "    <tr style=\"text-align: right;\">\n",
       "      <th></th>\n",
       "      <th>Model</th>\n",
       "      <th>MSE</th>\n",
       "      <th>RMSE</th>\n",
       "      <th>R2</th>\n",
       "    </tr>\n",
       "  </thead>\n",
       "  <tbody>\n",
       "    <tr>\n",
       "      <th>0</th>\n",
       "      <td>Ensemble</td>\n",
       "      <td>424571.750273</td>\n",
       "      <td>651.591705</td>\n",
       "      <td>0.64188</td>\n",
       "    </tr>\n",
       "  </tbody>\n",
       "</table>\n",
       "</div>"
      ],
      "text/plain": [
       "      Model            MSE        RMSE       R2\n",
       "0  Ensemble  424571.750273  651.591705  0.64188"
      ]
     },
     "execution_count": 10,
     "metadata": {},
     "output_type": "execute_result"
    }
   ],
   "source": [
    "results_df"
   ]
  },
  {
   "cell_type": "code",
   "execution_count": 12,
   "id": "5a8fb91e-fe2f-4d78-bcb5-bda16510639c",
   "metadata": {},
   "outputs": [
    {
     "data": {
      "text/plain": [
       "['ensemble_model.pkl']"
      ]
     },
     "execution_count": 12,
     "metadata": {},
     "output_type": "execute_result"
    }
   ],
   "source": [
    "# 保存 LabelEncoder\n",
    "joblib.dump(le, 'label_encoder.pkl')\n",
    "\n",
    "# 保存 StandardScaler\n",
    "joblib.dump(scaler, 'scaler.pkl')\n",
    "\n",
    "# 保存最优模型\n",
    "best_model = ensemble_model\n",
    "best_model.fit(X_train_scaled, y_train)  # 在整个训练集上重新拟合最优模型\n",
    "joblib.dump(best_model, f'ensemble_model.pkl')"
   ]
  },
  {
   "cell_type": "code",
   "execution_count": 13,
   "id": "7787acd7-813c-4792-82c5-96a81a358703",
   "metadata": {},
   "outputs": [
    {
     "name": "stderr",
     "output_type": "stream",
     "text": [
      "C:\\Users\\Administrator\\AppData\\Local\\Temp\\ipykernel_11100\\2723684120.py:22: UserWarning: FigureCanvasAgg is non-interactive, and thus cannot be shown\n",
      "  plt.show()\n"
     ]
    }
   ],
   "source": [
    "# 预测和评估\n",
    "y_pred = best_model.predict(X_test_scaled[:100])\n",
    "\n",
    "plt.rcParams['font.sans-serif'] = ['SimHei']\n",
    "matplotlib.rcParams['axes.unicode_minus'] = False\n",
    "# 创建一个折线图来比较实际值 (y_test) 和预测值 (y_pred)\n",
    "plt.figure(figsize=(12, 6), dpi=500)\n",
    "\n",
    "# 绘制实际值\n",
    "plt.plot(y_test.reset_index(drop=True)[:100], label='Actual', color='b')\n",
    "\n",
    "# 绘制预测值\n",
    "plt.plot(y_pred, label='Predicted', color='r', linestyle='--')\n",
    "\n",
    "# 添加图例和标题\n",
    "plt.legend()\n",
    "plt.title(f\"Actual vs Predicted values using ensemble_model\")\n",
    "plt.xlabel(\"Sample Index\")\n",
    "plt.ylabel(\"Price\")\n",
    "plt.savefig(f\"Actual vs Predicted values using ensemble_model.png\")\n",
    "# 显示图像\n",
    "plt.show()\n"
   ]
  },
  {
   "cell_type": "code",
   "execution_count": 14,
   "id": "0244994f-9fb9-4a78-b7d9-73d3ab7c7d1b",
   "metadata": {},
   "outputs": [],
   "source": [
    "# 加载保存的对象\n",
    "loaded_le = joblib.load('label_encoder.pkl')\n",
    "loaded_scaler = joblib.load('scaler.pkl')\n",
    "loaded_model = joblib.load(f'ensemble_model.pkl')"
   ]
  },
  {
   "cell_type": "code",
   "execution_count": null,
   "id": "6b6a637b-2584-4014-8e42-0253cac4a2af",
   "metadata": {},
   "outputs": [
    {
     "name": "stdin",
     "output_type": "stream",
     "text": [
      "请输入面积大小： 127\n",
      "请输入朝向： 南\n"
     ]
    }
   ],
   "source": [
    "best_model_name = 'ensemble'\n",
    "\n",
    "# 加载保存的对象\n",
    "loaded_le = joblib.load('label_encoder.pkl')\n",
    "loaded_scaler = joblib.load('scaler.pkl')\n",
    "loaded_model = joblib.load(f'{best_model_name}_model.pkl')\n",
    "\n",
    "def floor_process(x):\n",
    "    if x == '低楼层':\n",
    "        return 0\n",
    "    if x == '中楼层':\n",
    "        return 1\n",
    "    if x == '高楼层':\n",
    "        return 2\n",
    "\n",
    "area_ = float(input('请输入面积大小：'))\n",
    "orient_ = input('请输入朝向：')\n",
    "city_ = input('请输入所在城市：')\n",
    "district_ = input('请输入所在城市区域：')\n",
    "floor_ = input('请输入所在楼层高度范围：')\n",
    "floor1_ = floor_process(floor_)\n",
    "\n",
    "def safe_label_transform(le, value):\n",
    "    # 如果值不在已知类别中，则返回一个默认值\n",
    "    if value not in le.classes_:\n",
    "        return -1  # 或者其他处理方式\n",
    "    else:\n",
    "        return le.transform([value])[0]\n",
    "\n",
    "# 对新数据进行编码和标准化\n",
    "try:\n",
    "    new_data = pd.DataFrame({\n",
    "        'district': [safe_label_transform(loaded_le, district_)],\n",
    "        'area': [area_],\n",
    "        'orient': [safe_label_transform(loaded_le, orient_)],\n",
    "        'floor': [floor1_],  # 楼层已经是数值，不需要 LabelEncoder\n",
    "        'city': [safe_label_transform(loaded_le, city_)]\n",
    "    })\n",
    "except Exception as e:\n",
    "    print(f\"Error during transforming input: {e}\")\n",
    "    new_data = pd.DataFrame({\n",
    "        'district': [-1],\n",
    "        'area': [area_],\n",
    "        'orient': [-1],\n",
    "        'floor': [floor1_],\n",
    "        'city': [-1]\n",
    "    })\n",
    "\n",
    "new_data_scaled = loaded_scaler.transform(new_data)\n",
    "\n",
    "# 使用加载的模型进行预测\n",
    "predicted_price = loaded_model.predict(new_data_scaled)\n",
    "print(f\"预测的房价是: {predicted_price[0]}\")"
   ]
  },
  {
   "cell_type": "code",
   "execution_count": null,
   "id": "7f1261ec-b9a7-49b5-af21-a508ae378208",
   "metadata": {},
   "outputs": [],
   "source": []
  }
 ],
 "metadata": {
  "kernelspec": {
   "display_name": "Python 3 (ipykernel)",
   "language": "python",
   "name": "python3"
  },
  "language_info": {
   "codemirror_mode": {
    "name": "ipython",
    "version": 3
   },
   "file_extension": ".py",
   "mimetype": "text/x-python",
   "name": "python",
   "nbconvert_exporter": "python",
   "pygments_lexer": "ipython3",
   "version": "3.11.7"
  }
 },
 "nbformat": 4,
 "nbformat_minor": 5
}
